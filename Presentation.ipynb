{
 "cells": [
  {
   "cell_type": "markdown",
   "metadata": {},
   "source": [
    "# OpenIFS SCM\n",
    "\n",
    "Organisation: ECMWF\n",
    "\n",
    "License: The following notebook is a run of an example in a ECMWF training course.\n",
    "\n",
    "Article: [link](https://medium.com/@tiberiulepadatu14/how-i-learned-to-code-in-the-dark-1b29c05e26e9?sk=65f92bdfe4a32d2a014070c92e891349)\n",
    "\n",
    "Goal: Facilitate usage of the single column model of ECMWF's IFS. Showcase how a modern, interactive, development environment can enhance scientific productivity for ECMWF’s Integrated Forecasting System (IFS).\n"
   ]
  },
  {
   "cell_type": "code",
   "execution_count": 1,
   "metadata": {},
   "outputs": [
    {
     "name": "stdout",
     "output_type": "stream",
     "text": [
      "Build completed successfully!\n"
     ]
    }
   ],
   "source": [
    "# Import the run script from the scripts directory. And build the Open ifs source.\n",
    "import scripts.run as run\n",
    "from importlib import reload\n",
    "run = reload(run)\n",
    "run.build_run()\n"
   ]
  },
  {
   "cell_type": "code",
   "execution_count": 2,
   "metadata": {
    "scrolled": true
   },
   "outputs": [
    {
     "data": {
      "text/html": [
       "<script>Jupyter.notebook.kernel.restart()</script>"
      ]
     },
     "metadata": {},
     "output_type": "display_data"
    }
   ],
   "source": [
    "# Restart the kernel so the saved fortran variables will not bouther us anymore.\n",
    "import os\n",
    "from IPython.display import display_html\n",
    "display_html(\"<script>Jupyter.notebook.kernel.restart()</script>\",raw=True)\n",
    "\n"
   ]
  },
  {
   "cell_type": "code",
   "execution_count": 1,
   "metadata": {},
   "outputs": [
    {
     "name": "stdout",
     "output_type": "stream",
     "text": [
      "/home/tibi/Desktop/esowc/test-run\n"
     ]
    }
   ],
   "source": [
    "# Run OpenIfs\n",
    "import os\n",
    "from importlib import reload\n",
    "\n",
    "if os.path.isdir(\"test-run\"):\n",
    "    %cd test-run\n",
    "\n",
    "os.environ[\"GFORTRAN_CONVERT_UNIT\"] = \"big_endian\"\n",
    "import _test1\n",
    "_test1.f90wrap_cnt1c()\n"
   ]
  },
  {
   "cell_type": "code",
   "execution_count": 4,
   "metadata": {},
   "outputs": [],
   "source": [
    "# A little bit more about the save variables\n",
    "# FORTRAN has a very interesting way of handeling variables with the SAVE directive;\n",
    "# It keeps the variable in memory for as long as the module is runned\n",
    "# and if we realocate it fails the kernel; this si why we restart the kernels\n",
    "# I am now working on another solution to this. Unloading the dll by hand but the\n",
    "# api of the cython is rather unpleasant\n",
    "# also added all of the imports here to have a cleaner interface\n",
    "# Simplest solution for a hard problem just restart the kernel after a run to make Fortran not care about\n",
    "# plot the results\n",
    "import _test1\n",
    "import sys\n",
    "\n",
    "import os\n",
    "\n",
    "if os.path.isdir(\"test-run\"):\n",
    "    %cd test-run\n",
    "    \n",
    "import importlib\n",
    "sys.path.append(\"..\")\n",
    "from scripts import plot\n",
    "\n",
    "from scripts import get_nl_class\n",
    "\n",
    "import scripts.plot\n",
    "\n",
    "plot = plot.Plot(\"diagvar.nc\")"
   ]
  },
  {
   "cell_type": "code",
   "execution_count": null,
   "metadata": {},
   "outputs": [],
   "source": [
    "# Select the variables that you want to plot \n",
    "plot.documentation_nl_names() "
   ]
  },
  {
   "cell_type": "code",
   "execution_count": 4,
   "metadata": {},
   "outputs": [
    {
     "data": {
      "image/png": "[encoded data removed]",
      "text/plain": [
       "<Figure size 432x288 with 1 Axes>"
      ]
     },
     "metadata": {
      "needs_background": "light"
     },
     "output_type": "display_data"
    }
   ],
   "source": [
    "# Call the plot function and plot the result.\n",
    "\n",
    "plot.plot_parameter(plot_name = \"pressure_f\")"
   ]
  },
  {
   "cell_type": "code",
   "execution_count": null,
   "metadata": {},
   "outputs": [],
   "source": [
    "# Change the fortran Namelist\n",
    "# Firstly look for what variable you want to change\n",
    "\n",
    "get_nl_class = importlib.reload(get_nl_class)\n",
    "namelist_changer = get_nl_class.NML_Change(namelist_file = \"fort.4\")\n",
    "namelist_changer.read_nml()\n",
    "namelist_changer.print_namelists_from_file()"
   ]
  },
  {
   "cell_type": "code",
   "execution_count": 5,
   "metadata": {},
   "outputs": [
    {
     "name": "stdout",
     "output_type": "stream",
     "text": [
      "Done changeing!\n"
     ]
    }
   ],
   "source": [
    "# Change that variable\n",
    "\n",
    "get_nl_class = importlib.reload(get_nl_class)\n",
    "namelist_changer = get_nl_class.NML_Change(namelist_file = \"fort.4\")\n",
    "namelist_changer.patch_namelist(tree_field = \"NAMARG\", subtree_field = \"UTSTEP\", value = 200.00)"
   ]
  },
  {
   "cell_type": "code",
   "execution_count": null,
   "metadata": {},
   "outputs": [
    {
     "data": {
      "text/html": [
       "<script>Jupyter.notebook.kernel.restart()</script>"
      ]
     },
     "metadata": {},
     "output_type": "display_data"
    }
   ],
   "source": [
    "# Reload the kernel for good measure\n",
    "\n",
    "from IPython.display import display_html\n",
    "display_html(\"<script>Jupyter.notebook.kernel.restart()</script>\",raw=True)"
   ]
  },
  {
   "cell_type": "code",
   "execution_count": 1,
   "metadata": {},
   "outputs": [
    {
     "name": "stdout",
     "output_type": "stream",
     "text": [
      "/home/tibi/Desktop/esowc/test-run\n"
     ]
    }
   ],
   "source": [
    "# Call the scm model again\n",
    "import os\n",
    "from importlib import reload\n",
    "\n",
    "if os.path.isdir(\"test-run\"):\n",
    "    %cd test-run\n",
    "\n",
    "os.environ[\"GFORTRAN_CONVERT_UNIT\"] = \"big_endian\"\n",
    "import _test1\n",
    "_test1.f90wrap_cnt1c()"
   ]
  },
  {
   "cell_type": "code",
   "execution_count": 3,
   "metadata": {},
   "outputs": [
    {
     "data": {
      "image/png": "[encoded data removed]",
      "text/plain": [
       "<Figure size 432x288 with 1 Axes>"
      ]
     },
     "metadata": {
      "needs_background": "light"
     },
     "output_type": "display_data"
    }
   ],
   "source": [
    "# Plot the Grafic another time\n",
    "\n",
    "import sys\n",
    "sys.path.append(\"..\")\n",
    "from scripts import plot\n",
    "plot = plot.Plot(\"diagvar.nc\")\n",
    "plot.plot_parameter(plot_name = \"pressure_f\")"
   ]
  },
  {
   "cell_type": "markdown",
   "metadata": {},
   "source": [
    "# So to recap"
   ]
  },
  {
   "cell_type": "code",
   "execution_count": null,
   "metadata": {},
   "outputs": [],
   "source": [
    "# Copy this cell for running the cnt1c\n",
    "# Run OpenIfs\n",
    "import os\n",
    "from importlib import reload\n",
    "\n",
    "if os.path.isdir(\"test-run\"):\n",
    "    %cd test-run\n",
    "\n",
    "os.environ[\"GFORTRAN_CONVERT_UNIT\"] = \"big_endian\"\n",
    "import _test1\n",
    "_test1.f90wrap_cnt1c()\n",
    "\n",
    "# At the end we are also restart the kernel\n",
    "import os\n",
    "from IPython.display import display_html\n",
    "display_html(\"<script>Jupyter.notebook.kernel.restart()</script>\",raw=True)\n",
    "\n"
   ]
  },
  {
   "cell_type": "code",
   "execution_count": null,
   "metadata": {},
   "outputs": [],
   "source": [
    "# List all the \n",
    "import os\n",
    "from importlib import reload\n",
    "import scripts\n",
    "\n",
    "if os.path.isdir(\"test-run\"):\n",
    "    %cd test-run\n",
    "\n",
    "import scripts.plot as plot\n",
    "\n",
    "plot = plot.Plot(\"diagvar.nc\")\n",
    "plot.documentation_nl_names() "
   ]
  },
  {
   "cell_type": "code",
   "execution_count": null,
   "metadata": {},
   "outputs": [],
   "source": [
    "# Call the plot function and plot the result.\n",
    "# Change the selected plot variable\n",
    "\n",
    "selected_plot_var = \"pressure_f\"\n",
    "plot.plot_parameter(plot_name = selected_plot_var)"
   ]
  },
  {
   "cell_type": "code",
   "execution_count": null,
   "metadata": {},
   "outputs": [],
   "source": [
    "# Change the fortran Namelist\n",
    "# Firstly look for what variable you want to change\n",
    "# We are changeing the namelist directly in the fort.4 file\n",
    "from importlib import reload\n",
    "from scripts import get_nl_class\n",
    "\n",
    "get_nl_class = reload(get_nl_class)\n",
    "namelist_changer = get_nl_class.NML_Change(namelist_file = \"fort.4\")\n",
    "namelist_changer.read_nml()\n",
    "namelist_changer.print_namelists_from_file()"
   ]
  },
  {
   "cell_type": "code",
   "execution_count": 13,
   "metadata": {},
   "outputs": [
    {
     "name": "stdout",
     "output_type": "stream",
     "text": [
      "Done changeing!\n"
     ]
    }
   ],
   "source": [
    "# After choosing the varibales that you want to change\n",
    "# Copy this cell and change the 3 variables at the top\n",
    "import importlib\n",
    "namelist = \"NAMARG\"\n",
    "variable = \"UTSTEP\"\n",
    "value = 200.00\n",
    "get_nl_class = importlib.reload(get_nl_class)\n",
    "namelist_changer = get_nl_class.NML_Change(namelist_file = \"fort.4\")\n",
    "namelist_changer.patch_namelist(tree_field = namelist, subtree_field = variable, value = value )"
   ]
  },
  {
   "cell_type": "code",
   "execution_count": null,
   "metadata": {},
   "outputs": [
    {
     "data": {
      "text/html": [
       "<script>Jupyter.notebook.kernel.restart()</script>"
      ]
     },
     "metadata": {},
     "output_type": "display_data"
    }
   ],
   "source": [
    "# Copy the running cell and press enter\n",
    "# Copy this cell for running the cnt1c\n",
    "# Run OpenIfs\n",
    "import os\n",
    "from importlib import reload\n",
    "\n",
    "if os.path.isdir(\"test-run\"):\n",
    "    %cd test-run\n",
    "\n",
    "os.environ[\"GFORTRAN_CONVERT_UNIT\"] = \"big_endian\"\n",
    "import _test1\n",
    "_test1.f90wrap_cnt1c()\n",
    "\n",
    "# At the end we are also restart the kernel\n",
    "import os\n",
    "from IPython.display import display_html\n",
    "display_html(\"<script>Jupyter.notebook.kernel.restart()</script>\",raw=True)\n",
    "\n"
   ]
  },
  {
   "cell_type": "code",
   "execution_count": null,
   "metadata": {},
   "outputs": [],
   "source": [
    "# Now Copy the 2 plotting cells and rerun them\n",
    "import os\n",
    "from importlib import reload\n",
    "import scripts\n",
    "\n",
    "if os.path.isdir(\"test-run\"):\n",
    "    %cd test-run\n",
    "\n",
    "import scripts.plot as plot\n",
    "\n",
    "plot = plot.Plot(\"diagvar.nc\")\n",
    "plot.documentation_nl_names() "
   ]
  },
  {
   "cell_type": "code",
   "execution_count": null,
   "metadata": {},
   "outputs": [],
   "source": [
    "# Call the plot function and plot the result.\n",
    "# Change the selected plot variable\n",
    "\n",
    "selected_plot_var = \"pressure_f\"\n",
    "plot.plot_parameter(plot_name = selected_plot_var)"
   ]
  }
 ],
 "metadata": {
  "kernelspec": {
   "display_name": "Python 3",
   "language": "python",
   "name": "python3"
  },
  "language_info": {
   "codemirror_mode": {
    "name": "ipython",
    "version": 3
   },
   "file_extension": ".py",
   "mimetype": "text/x-python",
   "name": "python",
   "nbconvert_exporter": "python",
   "pygments_lexer": "ipython3",
   "version": "3.6.8"
  }
 },
 "nbformat": 4,
 "nbformat_minor": 2
}
